{
 "cells": [
  {
   "cell_type": "markdown",
   "id": "1f8612e1",
   "metadata": {},
   "source": [
    "# Measure of dispersion\n",
    "### Variance and standard deviation"
   ]
  },
  {
   "cell_type": "code",
   "execution_count": 1,
   "id": "21b5b487",
   "metadata": {},
   "outputs": [],
   "source": [
    "# variance"
   ]
  },
  {
   "cell_type": "code",
   "execution_count": 2,
   "id": "b49efdc3",
   "metadata": {},
   "outputs": [],
   "source": [
    "age_list = [23, 43, 23, 56, 74, 32, 68, 98, 45, 32]"
   ]
  },
  {
   "cell_type": "code",
   "execution_count": 3,
   "id": "9f9d063b",
   "metadata": {},
   "outputs": [],
   "source": [
    "import numpy as np"
   ]
  },
  {
   "cell_type": "code",
   "execution_count": 4,
   "id": "d4056f43",
   "metadata": {},
   "outputs": [],
   "source": [
    "mean = np.mean(age_list)"
   ]
  },
  {
   "cell_type": "code",
   "execution_count": 5,
   "id": "89a5df61",
   "metadata": {},
   "outputs": [
    {
     "data": {
      "text/plain": [
       "49.4"
      ]
     },
     "execution_count": 5,
     "metadata": {},
     "output_type": "execute_result"
    }
   ],
   "source": [
    "mean"
   ]
  },
  {
   "cell_type": "code",
   "execution_count": 6,
   "id": "4b4ed834",
   "metadata": {},
   "outputs": [
    {
     "data": {
      "text/plain": [
       "541.64"
      ]
     },
     "execution_count": 6,
     "metadata": {},
     "output_type": "execute_result"
    }
   ],
   "source": [
    "variance = np.var(age_list)\n",
    "variance"
   ]
  },
  {
   "cell_type": "code",
   "execution_count": 7,
   "id": "8c336efd",
   "metadata": {},
   "outputs": [
    {
     "data": {
      "text/plain": [
       "23.273160507331188"
      ]
     },
     "execution_count": 7,
     "metadata": {},
     "output_type": "execute_result"
    }
   ],
   "source": [
    "st_deviation = np.std(age_list)\n",
    "st_deviation"
   ]
  },
  {
   "cell_type": "code",
   "execution_count": 8,
   "id": "d992f083",
   "metadata": {},
   "outputs": [],
   "source": [
    "import pandas as pd"
   ]
  },
  {
   "cell_type": "code",
   "execution_count": 9,
   "id": "aaa2786b",
   "metadata": {},
   "outputs": [],
   "source": [
    "data = [[10, 12, 13], [34, 23, 45], [32, 34, 21]]"
   ]
  },
  {
   "cell_type": "code",
   "execution_count": 10,
   "id": "4fe4a5a7",
   "metadata": {},
   "outputs": [
    {
     "data": {
      "text/plain": [
       "[[10, 12, 13], [34, 23, 45], [32, 34, 21]]"
      ]
     },
     "execution_count": 10,
     "metadata": {},
     "output_type": "execute_result"
    }
   ],
   "source": [
    "data"
   ]
  },
  {
   "cell_type": "code",
   "execution_count": 14,
   "id": "8b902223",
   "metadata": {},
   "outputs": [],
   "source": [
    "df = pd.DataFrame(data, columns=['A', 'B', 'C'])"
   ]
  },
  {
   "cell_type": "code",
   "execution_count": 15,
   "id": "2c99316f",
   "metadata": {},
   "outputs": [
    {
     "data": {
      "text/html": [
       "<div>\n",
       "<style scoped>\n",
       "    .dataframe tbody tr th:only-of-type {\n",
       "        vertical-align: middle;\n",
       "    }\n",
       "\n",
       "    .dataframe tbody tr th {\n",
       "        vertical-align: top;\n",
       "    }\n",
       "\n",
       "    .dataframe thead th {\n",
       "        text-align: right;\n",
       "    }\n",
       "</style>\n",
       "<table border=\"1\" class=\"dataframe\">\n",
       "  <thead>\n",
       "    <tr style=\"text-align: right;\">\n",
       "      <th></th>\n",
       "      <th>A</th>\n",
       "      <th>B</th>\n",
       "      <th>C</th>\n",
       "    </tr>\n",
       "  </thead>\n",
       "  <tbody>\n",
       "    <tr>\n",
       "      <th>0</th>\n",
       "      <td>10</td>\n",
       "      <td>12</td>\n",
       "      <td>13</td>\n",
       "    </tr>\n",
       "    <tr>\n",
       "      <th>1</th>\n",
       "      <td>34</td>\n",
       "      <td>23</td>\n",
       "      <td>45</td>\n",
       "    </tr>\n",
       "    <tr>\n",
       "      <th>2</th>\n",
       "      <td>32</td>\n",
       "      <td>34</td>\n",
       "      <td>21</td>\n",
       "    </tr>\n",
       "  </tbody>\n",
       "</table>\n",
       "</div>"
      ],
      "text/plain": [
       "    A   B   C\n",
       "0  10  12  13\n",
       "1  34  23  45\n",
       "2  32  34  21"
      ]
     },
     "execution_count": 15,
     "metadata": {},
     "output_type": "execute_result"
    }
   ],
   "source": [
    "df"
   ]
  },
  {
   "cell_type": "code",
   "execution_count": 16,
   "id": "59f4cb31",
   "metadata": {},
   "outputs": [
    {
     "data": {
      "text/plain": [
       "A    177.333333\n",
       "B    121.000000\n",
       "C    277.333333\n",
       "dtype: float64"
      ]
     },
     "execution_count": 16,
     "metadata": {},
     "output_type": "execute_result"
    }
   ],
   "source": [
    "df.var()"
   ]
  },
  {
   "cell_type": "code",
   "execution_count": 17,
   "id": "3a36f8b8",
   "metadata": {},
   "outputs": [
    {
     "data": {
      "text/plain": [
       "0      2.333333\n",
       "1    121.000000\n",
       "2     49.000000\n",
       "dtype: float64"
      ]
     },
     "execution_count": 17,
     "metadata": {},
     "output_type": "execute_result"
    }
   ],
   "source": [
    "# variance row wise\n",
    "df.var(axis=1)"
   ]
  },
  {
   "cell_type": "code",
   "execution_count": 18,
   "id": "8d22f0e0",
   "metadata": {},
   "outputs": [
    {
     "data": {
      "text/plain": [
       "A    177.333333\n",
       "B    121.000000\n",
       "C    277.333333\n",
       "dtype: float64"
      ]
     },
     "execution_count": 18,
     "metadata": {},
     "output_type": "execute_result"
    }
   ],
   "source": [
    "# column wise\n",
    "df.var()  # or I can give axis=0"
   ]
  },
  {
   "cell_type": "code",
   "execution_count": null,
   "id": "0deedfd5",
   "metadata": {},
   "outputs": [],
   "source": []
  }
 ],
 "metadata": {
  "kernelspec": {
   "display_name": "Python 3 (ipykernel)",
   "language": "python",
   "name": "python3"
  },
  "language_info": {
   "codemirror_mode": {
    "name": "ipython",
    "version": 3
   },
   "file_extension": ".py",
   "mimetype": "text/x-python",
   "name": "python",
   "nbconvert_exporter": "python",
   "pygments_lexer": "ipython3",
   "version": "3.10.6"
  }
 },
 "nbformat": 4,
 "nbformat_minor": 5
}
