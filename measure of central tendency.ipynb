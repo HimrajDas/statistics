{
 "cells": [
  {
   "cell_type": "markdown",
   "id": "c95f5532",
   "metadata": {},
   "source": [
    "## Measure of central tendency"
   ]
  },
  {
   "cell_type": "code",
   "execution_count": 2,
   "id": "90f27976",
   "metadata": {},
   "outputs": [],
   "source": [
    "# Mean(avg)\n",
    "age = [12, 15, 16, 18, 22, 26, 30]"
   ]
  },
  {
   "cell_type": "code",
   "execution_count": 3,
   "id": "d653c600",
   "metadata": {},
   "outputs": [
    {
     "data": {
      "text/plain": [
       "19.857142857142858"
      ]
     },
     "execution_count": 3,
     "metadata": {},
     "output_type": "execute_result"
    }
   ],
   "source": [
    "(12 + 15 + 16 + 18 + 22 + 26 + 30) / 7"
   ]
  },
  {
   "cell_type": "code",
   "execution_count": 4,
   "id": "4df7d282",
   "metadata": {},
   "outputs": [
    {
     "data": {
      "text/plain": [
       "19.857142857142858"
      ]
     },
     "execution_count": 4,
     "metadata": {},
     "output_type": "execute_result"
    }
   ],
   "source": [
    "import numpy as np\n",
    "np.mean(age)"
   ]
  },
  {
   "cell_type": "code",
   "execution_count": 5,
   "id": "37c41fe4",
   "metadata": {},
   "outputs": [],
   "source": [
    "weights = [32, 30, 20, 40, 38, 45, 46, 52, 50]"
   ]
  },
  {
   "cell_type": "code",
   "execution_count": 6,
   "id": "fbeeebd4",
   "metadata": {},
   "outputs": [
    {
     "data": {
      "text/plain": [
       "39.22222222222222"
      ]
     },
     "execution_count": 6,
     "metadata": {},
     "output_type": "execute_result"
    }
   ],
   "source": [
    "np.mean(weights)"
   ]
  },
  {
   "cell_type": "code",
   "execution_count": 7,
   "id": "4f273aa9",
   "metadata": {},
   "outputs": [],
   "source": [
    "# add a outlier in weights\n",
    "weights = [32, 30, 20, 40, 38, 45, 46, 52, 50, 1000]  # 1000 is the outlier"
   ]
  },
  {
   "cell_type": "code",
   "execution_count": 8,
   "id": "b131c637",
   "metadata": {},
   "outputs": [
    {
     "data": {
      "text/plain": [
       "135.3"
      ]
     },
     "execution_count": 8,
     "metadata": {},
     "output_type": "execute_result"
    }
   ],
   "source": [
    "np.mean(weights)"
   ]
  },
  {
   "cell_type": "code",
   "execution_count": 9,
   "id": "b0775d9e",
   "metadata": {},
   "outputs": [
    {
     "data": {
      "text/plain": [
       "42.5"
      ]
     },
     "execution_count": 9,
     "metadata": {},
     "output_type": "execute_result"
    }
   ],
   "source": [
    "# Median\n",
    "np.median(weights)"
   ]
  },
  {
   "cell_type": "code",
   "execution_count": 10,
   "id": "b4d194c0",
   "metadata": {},
   "outputs": [],
   "source": [
    "# Mode"
   ]
  },
  {
   "cell_type": "code",
   "execution_count": 11,
   "id": "a903a6bb",
   "metadata": {},
   "outputs": [],
   "source": [
    "from scipy import stats"
   ]
  },
  {
   "cell_type": "code",
   "execution_count": 13,
   "id": "5120143f",
   "metadata": {},
   "outputs": [],
   "source": [
    "nums = [20, 10, 12, 13, 20, 45, 35, 20, 100, 20]"
   ]
  },
  {
   "cell_type": "code",
   "execution_count": 14,
   "id": "0d762eb7",
   "metadata": {},
   "outputs": [
    {
     "name": "stderr",
     "output_type": "stream",
     "text": [
      "C:\\Users\\ACER\\AppData\\Local\\Temp\\ipykernel_9656\\2278308374.py:1: FutureWarning: Unlike other reduction functions (e.g. `skew`, `kurtosis`), the default behavior of `mode` typically preserves the axis it acts along. In SciPy 1.11.0, this behavior will change: the default value of `keepdims` will become False, the `axis` over which the statistic is taken will be eliminated, and the value None will no longer be accepted. Set `keepdims` to True or False to avoid this warning.\n",
      "  stats.mode(nums)\n"
     ]
    },
    {
     "data": {
      "text/plain": [
       "ModeResult(mode=array([20]), count=array([4]))"
      ]
     },
     "execution_count": 14,
     "metadata": {},
     "output_type": "execute_result"
    }
   ],
   "source": [
    "stats.mode(nums)"
   ]
  },
  {
   "cell_type": "code",
   "execution_count": null,
   "id": "7263c0a3",
   "metadata": {},
   "outputs": [],
   "source": []
  }
 ],
 "metadata": {
  "kernelspec": {
   "display_name": "Python 3 (ipykernel)",
   "language": "python",
   "name": "python3"
  },
  "language_info": {
   "codemirror_mode": {
    "name": "ipython",
    "version": 3
   },
   "file_extension": ".py",
   "mimetype": "text/x-python",
   "name": "python",
   "nbconvert_exporter": "python",
   "pygments_lexer": "ipython3",
   "version": "3.10.6"
  }
 },
 "nbformat": 4,
 "nbformat_minor": 5
}
